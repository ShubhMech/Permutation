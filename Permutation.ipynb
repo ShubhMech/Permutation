{
 "cells": [
  {
   "cell_type": "code",
   "execution_count": null,
   "id": "dfe6da20-4391-4dc7-b303-a3e5f68472c8",
   "metadata": {},
   "outputs": [],
   "source": [
    "def permutation(list1, list2):\n",
    "    if len(list1)== len(list2):\n",
    "        if sorted(list1)= sorted(list2):\n",
    "            return \" the two lists are permutation of each other\"\n",
    "        \n",
    "    "
   ]
  }
 ],
 "metadata": {
  "kernelspec": {
   "display_name": "Python 3",
   "language": "python",
   "name": "python3"
  },
  "language_info": {
   "codemirror_mode": {
    "name": "ipython",
    "version": 3
   },
   "file_extension": ".py",
   "mimetype": "text/x-python",
   "name": "python",
   "nbconvert_exporter": "python",
   "pygments_lexer": "ipython3",
   "version": "3.8.5"
  }
 },
 "nbformat": 4,
 "nbformat_minor": 5
}
